{
 "cells": [
  {
   "cell_type": "code",
   "execution_count": 17,
   "metadata": {},
   "outputs": [],
   "source": [
    "import numpy as np"
   ]
  },
  {
   "cell_type": "code",
   "execution_count": 18,
   "metadata": {},
   "outputs": [],
   "source": [
    "import layer"
   ]
  },
  {
   "cell_type": "code",
   "execution_count": 19,
   "metadata": {},
   "outputs": [],
   "source": [
    "l = layer.Layer(5, 4)"
   ]
  },
  {
   "cell_type": "code",
   "execution_count": 20,
   "metadata": {},
   "outputs": [
    {
     "data": {
      "text/plain": [
       "array([[0.78923625, 0.94315359, 0.34432494, 0.90264165, 0.44385305],\n",
       "       [0.80469089, 0.39102893, 0.99909259, 0.39706384, 0.88279725],\n",
       "       [0.37809953, 0.70878172, 0.55352421, 0.94667081, 0.24797929],\n",
       "       [0.80491856, 0.09290484, 0.2722178 , 0.22030843, 0.87840769]])"
      ]
     },
     "execution_count": 20,
     "metadata": {},
     "output_type": "execute_result"
    }
   ],
   "source": [
    "l.weights"
   ]
  },
  {
   "cell_type": "code",
   "execution_count": 21,
   "metadata": {},
   "outputs": [
    {
     "data": {
      "text/plain": [
       "array([[0.31854312],\n",
       "       [0.27531755],\n",
       "       [0.99034287],\n",
       "       [0.9856298 ],\n",
       "       [0.20655805]])"
      ]
     },
     "execution_count": 21,
     "metadata": {},
     "output_type": "execute_result"
    }
   ],
   "source": [
    "i = np.random.rand(5, 1)\n",
    "i"
   ]
  },
  {
   "cell_type": "code",
   "execution_count": 22,
   "metadata": {},
   "outputs": [
    {
     "data": {
      "text/plain": [
       "array([[2.20624167],\n",
       "       [2.67325049],\n",
       "       [2.59940465],\n",
       "       [1.39256186]])"
      ]
     },
     "execution_count": 22,
     "metadata": {},
     "output_type": "execute_result"
    }
   ],
   "source": [
    "output = l.forward(i)\n",
    "output"
   ]
  },
  {
   "cell_type": "code",
   "execution_count": 23,
   "metadata": {},
   "outputs": [
    {
     "data": {
      "text/plain": [
       "array([[0.97264693],\n",
       "       [0.94306628],\n",
       "       [0.20255989],\n",
       "       [0.43274681]])"
      ]
     },
     "execution_count": 23,
     "metadata": {},
     "output_type": "execute_result"
    }
   ],
   "source": [
    "target = np.random.rand(4, 1)\n",
    "target"
   ]
  },
  {
   "cell_type": "code",
   "execution_count": 24,
   "metadata": {},
   "outputs": [],
   "source": [
    "import loss"
   ]
  },
  {
   "cell_type": "code",
   "execution_count": 25,
   "metadata": {},
   "outputs": [
    {
     "data": {
      "text/plain": [
       "array([[2.46718948],\n",
       "       [3.46036843],\n",
       "       [4.79368952],\n",
       "       [1.91963009]])"
      ]
     },
     "execution_count": 25,
     "metadata": {},
     "output_type": "execute_result"
    }
   ],
   "source": [
    "partials = loss.MSE.partial_loss(output, target)\n",
    "partials"
   ]
  },
  {
   "cell_type": "code",
   "execution_count": 26,
   "metadata": {},
   "outputs": [
    {
     "data": {
      "text/plain": [
       "array([[0.78923625, 0.94315359, 0.34432494, 0.90264165, 0.44385305],\n",
       "       [0.80469089, 0.39102893, 0.99909259, 0.39706384, 0.88279725],\n",
       "       [0.37809953, 0.70878172, 0.55352421, 0.94667081, 0.24797929],\n",
       "       [0.80491856, 0.09290484, 0.2722178 , 0.22030843, 0.87840769]])"
      ]
     },
     "execution_count": 26,
     "metadata": {},
     "output_type": "execute_result"
    }
   ],
   "source": [
    "l.weights"
   ]
  },
  {
   "cell_type": "code",
   "execution_count": 27,
   "metadata": {},
   "outputs": [
    {
     "data": {
      "text/plain": [
       "array([[8.08935993],\n",
       "       [7.25606523],\n",
       "       [7.48272402],\n",
       "       [8.56193178],\n",
       "       [7.02482685]])"
      ]
     },
     "execution_count": 27,
     "metadata": {},
     "output_type": "execute_result"
    }
   ],
   "source": [
    "l.backward(partials, 0.05)"
   ]
  },
  {
   "cell_type": "code",
   "execution_count": 28,
   "metadata": {},
   "outputs": [
    {
     "data": {
      "text/plain": [
       "array([[0.74994094, 0.90919056, 0.22215676, 0.78105488, 0.41837216],\n",
       "       [0.74957706, 0.34339393, 0.82774503, 0.22653173, 0.8470589 ],\n",
       "       [0.30174969, 0.64279238, 0.3161544 , 0.71043064, 0.19847053],\n",
       "       [0.77434431, 0.06647945, 0.1771632 , 0.1257062 , 0.85858194]])"
      ]
     },
     "execution_count": 28,
     "metadata": {},
     "output_type": "execute_result"
    }
   ],
   "source": [
    "l.weights"
   ]
  }
 ],
 "metadata": {
  "kernelspec": {
   "display_name": "axonlocal",
   "language": "python",
   "name": "python3"
  },
  "language_info": {
   "codemirror_mode": {
    "name": "ipython",
    "version": 3
   },
   "file_extension": ".py",
   "mimetype": "text/x-python",
   "name": "python",
   "nbconvert_exporter": "python",
   "pygments_lexer": "ipython3",
   "version": "3.10.11"
  },
  "orig_nbformat": 4
 },
 "nbformat": 4,
 "nbformat_minor": 2
}
