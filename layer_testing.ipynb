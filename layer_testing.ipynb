{
 "cells": [
  {
   "cell_type": "code",
   "execution_count": 18,
   "metadata": {},
   "outputs": [],
   "source": [
    "import numpy as np"
   ]
  },
  {
   "cell_type": "code",
   "execution_count": 19,
   "metadata": {},
   "outputs": [],
   "source": [
    "from axon import layer\n",
    "from axon.optimizer import Optimizer"
   ]
  },
  {
   "cell_type": "code",
   "execution_count": 20,
   "metadata": {},
   "outputs": [],
   "source": [
    "l = layer.Layer(5, 4)"
   ]
  },
  {
   "cell_type": "code",
   "execution_count": 21,
   "metadata": {},
   "outputs": [
    {
     "data": {
      "text/plain": [
       "array([[0.24787226, 0.1012496 , 0.2353784 , 0.14740689, 0.26809284],\n",
       "       [0.37219947, 0.10693799, 0.16165955, 0.32967753, 0.02952546],\n",
       "       [0.34410322, 0.29951269, 0.06210027, 0.04787211, 0.24641171],\n",
       "       [0.0754713 , 0.26222132, 0.18979226, 0.32572954, 0.14678558]])"
      ]
     },
     "execution_count": 21,
     "metadata": {},
     "output_type": "execute_result"
    }
   ],
   "source": [
    "l.weights"
   ]
  },
  {
   "cell_type": "code",
   "execution_count": 22,
   "metadata": {},
   "outputs": [
    {
     "data": {
      "text/plain": [
       "array([[0.84552626],\n",
       "       [0.44186747],\n",
       "       [0.34471494],\n",
       "       [0.14171696],\n",
       "       [0.97548493]])"
      ]
     },
     "execution_count": 22,
     "metadata": {},
     "output_type": "execute_result"
    }
   ],
   "source": [
    "i = np.random.rand(5, 1)\n",
    "i"
   ]
  },
  {
   "cell_type": "code",
   "execution_count": 23,
   "metadata": {},
   "outputs": [
    {
     "data": {
      "text/plain": [
       "array([[0.89431985],\n",
       "       [0.55920332],\n",
       "       [0.71983801],\n",
       "       [0.48186571]])"
      ]
     },
     "execution_count": 23,
     "metadata": {},
     "output_type": "execute_result"
    }
   ],
   "source": [
    "output = l.forward(Optimizer.SGD, i, None)\n",
    "output"
   ]
  },
  {
   "cell_type": "code",
   "execution_count": 24,
   "metadata": {},
   "outputs": [
    {
     "data": {
      "text/plain": [
       "array([[0.15857   ],\n",
       "       [0.47190107],\n",
       "       [0.77467007],\n",
       "       [0.93206715]])"
      ]
     },
     "execution_count": 24,
     "metadata": {},
     "output_type": "execute_result"
    }
   ],
   "source": [
    "target = np.random.rand(4, 1)\n",
    "target"
   ]
  },
  {
   "cell_type": "code",
   "execution_count": 25,
   "metadata": {},
   "outputs": [],
   "source": [
    "from axon import loss"
   ]
  },
  {
   "cell_type": "code",
   "execution_count": 26,
   "metadata": {},
   "outputs": [
    {
     "data": {
      "text/plain": [
       "array([[ 1.47149969],\n",
       "       [ 0.17460451],\n",
       "       [-0.10966413],\n",
       "       [-0.90040287]])"
      ]
     },
     "execution_count": 26,
     "metadata": {},
     "output_type": "execute_result"
    }
   ],
   "source": [
    "partials = loss.MSE.partial_loss(output, target)\n",
    "partials"
   ]
  },
  {
   "cell_type": "code",
   "execution_count": 27,
   "metadata": {},
   "outputs": [
    {
     "data": {
      "text/plain": [
       "array([[0.24787226, 0.1012496 , 0.2353784 , 0.14740689, 0.26809284],\n",
       "       [0.37219947, 0.10693799, 0.16165955, 0.32967753, 0.02952546],\n",
       "       [0.34410322, 0.29951269, 0.06210027, 0.04787211, 0.24641171],\n",
       "       [0.0754713 , 0.26222132, 0.18979226, 0.32572954, 0.14678558]])"
      ]
     },
     "execution_count": 27,
     "metadata": {},
     "output_type": "execute_result"
    }
   ],
   "source": [
    "l.weights"
   ]
  },
  {
   "cell_type": "code",
   "execution_count": 28,
   "metadata": {},
   "outputs": [
    {
     "data": {
      "text/plain": [
       "array([[ 0.32404131],\n",
       "       [-0.10129001],\n",
       "       [ 0.19688607],\n",
       "       [-0.02406529],\n",
       "       [ 0.24046513]])"
      ]
     },
     "execution_count": 28,
     "metadata": {},
     "output_type": "execute_result"
    }
   ],
   "source": [
    "l.backward(Optimizer.SGD, partials, 0.05, None, None, None)"
   ]
  },
  {
   "cell_type": "code",
   "execution_count": 29,
   "metadata": {},
   "outputs": [
    {
     "data": {
      "text/plain": [
       "array([[0.18566268, 0.06873921, 0.21001601, 0.13698007, 0.19632155],\n",
       "       [0.36481783, 0.10308039, 0.15865012, 0.32844031, 0.02100926],\n",
       "       [0.34873941, 0.30193554, 0.06399041, 0.04864917, 0.2517605 ],\n",
       "       [0.11353701, 0.28211425, 0.20531137, 0.33210966, 0.19070205]])"
      ]
     },
     "execution_count": 29,
     "metadata": {},
     "output_type": "execute_result"
    }
   ],
   "source": [
    "l.weights"
   ]
  }
 ],
 "metadata": {
  "kernelspec": {
   "display_name": "axonlocal",
   "language": "python",
   "name": "python3"
  },
  "language_info": {
   "codemirror_mode": {
    "name": "ipython",
    "version": 3
   },
   "file_extension": ".py",
   "mimetype": "text/x-python",
   "name": "python",
   "nbconvert_exporter": "python",
   "pygments_lexer": "ipython3",
   "version": "3.10.9"
  },
  "orig_nbformat": 4
 },
 "nbformat": 4,
 "nbformat_minor": 2
}
